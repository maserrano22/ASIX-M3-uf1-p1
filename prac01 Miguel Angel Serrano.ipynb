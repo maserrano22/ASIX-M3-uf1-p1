{
  "cells": [
    {
      "cell_type": "markdown",
      "id": "2e3d5b79-352b-4800-ae9d-822846a0ece1",
      "metadata": {
        "nbgrader": {
          "grade": false,
          "grade_id": "cell-bdd4d42f95339346",
          "locked": true,
          "schema_version": 3,
          "solution": false,
          "task": false
        },
        "tags": [],
        "id": "2e3d5b79-352b-4800-ae9d-822846a0ece1"
      },
      "source": [
        "# Pràctica 1 - IF, FOR, WHILE, LLISTES"
      ]
    },
    {
      "cell_type": "markdown",
      "id": "49922319-496c-4369-aaa1-86a71d43287e",
      "metadata": {
        "nbgrader": {
          "grade": false,
          "grade_id": "cell-008f62b8682bfb2b",
          "locked": true,
          "schema_version": 3,
          "solution": false,
          "task": false
        },
        "tags": [],
        "id": "49922319-496c-4369-aaa1-86a71d43287e"
      },
      "source": [
        "Desenvolupa un codi per a cada exercici. Per a entregar la pràctica, podeu adjuntar un fitxer amb tots els codis separats per a cada exercici o adjuntar un fitxer per a cada exercici per separat. Es recomana que realitzeu els exercicis de forma individual, preguntant en cas de dubte. **En cas que es detecti una copia, la pràctica té un 0 i, a més a més, l’alumne tindrà més dificultats a l’hora de realitzar l’examen ja que no haurà practicat suficient.**\n",
        "\n",
        "> Es valorarà l’ús d’estructures IF,FOR,WHILE i llistes per a agilitzar el codi i optimitzar-lo."
      ]
    },
    {
      "cell_type": "markdown",
      "id": "dddb4552-50af-4381-8f26-af6c2d898bd3",
      "metadata": {
        "nbgrader": {
          "grade": false,
          "grade_id": "cell-74a16bd849326bf6",
          "locked": true,
          "schema_version": 3,
          "solution": false,
          "task": false
        },
        "tags": [],
        "id": "dddb4552-50af-4381-8f26-af6c2d898bd3"
      },
      "source": [
        "## Exercici 1\n",
        "\n",
        "Crea una frase i transforma-la en una llista. Mostra la llista per pantalla. Després, mostra la seva llista al revés. En acabat, mostra la seva longitud."
      ]
    },
    {
      "cell_type": "code",
      "execution_count": null,
      "id": "f080ea88-8029-43b2-86d4-3025735a1ce9",
      "metadata": {
        "nbgrader": {
          "grade": true,
          "grade_id": "cell-01b34421af65e869",
          "locked": true,
          "points": 1,
          "schema_version": 3,
          "solution": false,
          "task": false
        },
        "tags": [],
        "id": "f080ea88-8029-43b2-86d4-3025735a1ce9"
      },
      "outputs": [],
      "source": [
        "# La teva resposta aquí\n",
        "x=list(\"hola que tal me llamo angel\")\n",
        "print(x)\n",
        "x.reverse()\n",
        "print(x)\n",
        "len(x)\n",
        "\n",
        "def exercici1(sentence):\n",
        "    \"\"\"Transform sentence to a list.\n",
        "        Print the list\n",
        "        Print the list reversed\n",
        "        Print the length of the list    \n",
        "    \"\"\"\n",
        "    ### BEGIN SOLUTION\n",
        "    if n < 1:\n",
        "        raise ValueError(\"n must be greater than or equal to 1\")\n",
        "    return [i ** 2 for i in range(1, n + 1)]\n",
        "    ### END SOLUTION"
      ]
    },
    {
      "cell_type": "markdown",
      "id": "df8b3a08-2277-42b5-bbf7-ba06e8da0183",
      "metadata": {
        "nbgrader": {
          "grade": false,
          "grade_id": "cell-8263e7e5ec48d93c",
          "locked": true,
          "schema_version": 3,
          "solution": false,
          "task": false
        },
        "tags": [],
        "id": "df8b3a08-2277-42b5-bbf7-ba06e8da0183"
      },
      "source": [
        "## Exercici 2\n",
        "\n",
        "Desenvolupa un programa que demani tres nombres a l’usuari i indiqui quin d’ells és més gran."
      ]
    },
    {
      "cell_type": "code",
      "execution_count": null,
      "id": "92bceb75-e717-45ff-9687-e6ea77b9bced",
      "metadata": {
        "id": "92bceb75-e717-45ff-9687-e6ea77b9bced"
      },
      "outputs": [],
      "source": [
        "# La teva resposta aquí\n",
        "letras=[]\n",
        "for x in range(3):\n",
        "    usuario=input(\" dime un nombre: \")\n",
        "    nombre = list(usuario)\n",
        "    longitud = len(nombre)\n",
        "    print(\"la longitud es: \", longitud)\n",
        "    letras.append(longitud)\n",
        "if letras[0] > letras[1] and letras[0] > letras [2]:\n",
        "    print(\"el primer nombre es mas grande\")\n",
        "if letras[1] > letras[2] and letras[1] >  letras [0]:\n",
        "    print(\"el segundo nombre es mas grande\")\n",
        "elif letras[2] > letras[0] and letras[2] >  letras [1]:\n",
        "    print(\"el tercer nombre es mas grande\")"
      ]
    },
    {
      "cell_type": "markdown",
      "id": "78fed00f-086c-46a5-b814-dcb358837cac",
      "metadata": {
        "id": "78fed00f-086c-46a5-b814-dcb358837cac"
      },
      "source": [
        "## Exercici 3\n",
        "\n",
        "Escriu un snippet que retorni les posicions imparells del següent array: vector = [3,6,2,9,7,4,5,7]. Ha de mostrar per pantalla 6, 9, 4, 7."
      ]
    },
    {
      "cell_type": "code",
      "execution_count": null,
      "id": "e0787212-1f81-4317-986a-dc937d03e6ab",
      "metadata": {
        "id": "e0787212-1f81-4317-986a-dc937d03e6ab"
      },
      "outputs": [],
      "source": [
        "# La teva resposta aquí\n",
        "vector = [3,6,2,9,7,4,5,7]\n",
        "for elemento in vector:\n",
        "  if elemento == 6:\n",
        "    del(vector[0])\n",
        "  if elemento == 9:\n",
        "    del(vector[1])\n",
        "  if elemento == 4:\n",
        "    del(vector[2])\n",
        "    vector.remove(5)\n",
        "print(vector)"
      ]
    },
    {
      "cell_type": "markdown",
      "id": "30b18b46-46f9-4574-bcd9-03fd929abf04",
      "metadata": {
        "id": "30b18b46-46f9-4574-bcd9-03fd929abf04"
      },
      "source": [
        "## Exercici 4\n",
        "\n",
        "Desenvolupa un programa que calculi la mitja de l’array (20,3,15,18)"
      ]
    },
    {
      "cell_type": "code",
      "source": [
        "numeros = (20,3,15,18)\n",
        "suma = sum(numeros)\n",
        "print(\"esta es la suma\",suma)\n",
        "division = suma / 4\n",
        "print(\"y esta la media\",division)"
      ],
      "metadata": {
        "id": "Nsg5RR3SkhGc"
      },
      "id": "Nsg5RR3SkhGc",
      "execution_count": null,
      "outputs": []
    },
    {
      "cell_type": "markdown",
      "id": "8e4019d0-551f-402b-ae85-de2664766593",
      "metadata": {
        "id": "8e4019d0-551f-402b-ae85-de2664766593"
      },
      "source": [
        "## Exercici 5\n",
        "Genera un codi vagi recorrent la frase: “En un lugar de la Mancha” fins que trobi la M. En acabat, ha de dir quantes lletres i espais hi ha fins la M."
      ]
    },
    {
      "cell_type": "code",
      "execution_count": null,
      "id": "4610e571-f48c-4b26-95a8-e09dc655c562",
      "metadata": {
        "id": "4610e571-f48c-4b26-95a8-e09dc655c562"
      },
      "outputs": [],
      "source": [
        "# La teva resposta aquí\n",
        "frase = list(\"En un lugar de la Mancha\")\n",
        "letras=0\n",
        "for i in frase:\n",
        "    if i == 'M':\n",
        "      break\n",
        "    letras = letras+1\n",
        "print(\"esta es la cantidad de palabras y espacios: \",letras)"
      ]
    },
    {
      "cell_type": "markdown",
      "id": "d84b24b9-c73d-46f0-b5da-bb87aab394fa",
      "metadata": {
        "id": "d84b24b9-c73d-46f0-b5da-bb87aab394fa"
      },
      "source": [
        "## Exercici 6\n",
        "\n",
        "Modifica el següent codi per a que no es mostrin mai les “a”:\n",
        "\n",
        "```python\n",
        "frase = \"Soy el mas guay del paraguay\"\n",
        "for i in frase:\n",
        "    print(i)\n",
        "```"
      ]
    },
    {
      "cell_type": "code",
      "execution_count": null,
      "id": "33ed8a70-9cc4-4120-8428-d197c775a5de",
      "metadata": {
        "id": "33ed8a70-9cc4-4120-8428-d197c775a5de"
      },
      "outputs": [],
      "source": [
        "# La teva resposta aquí\n",
        "frase = \"Soy el mas guay del paraguay\"\n",
        "letra = \"a\"\n",
        "for i in range(len(letra)):\n",
        "  frase = frase.replace(letra[i],\"\")\n",
        "print(frase)"
      ]
    },
    {
      "cell_type": "markdown",
      "id": "032a8f7d-fc01-46fc-9302-f2db8ab08ec0",
      "metadata": {
        "id": "032a8f7d-fc01-46fc-9302-f2db8ab08ec0"
      },
      "source": [
        "## Exercici 7\n",
        "\n",
        "Escriu un programa que a cada component de l’array = [4,4,5,2,7,3] li sumi 3 utilitzant un bucle for. L’array ha de quedar array=[7,7,8,5,10,6]."
      ]
    },
    {
      "cell_type": "code",
      "execution_count": null,
      "id": "60c02507-5508-4f4d-beb6-04c86a44f5f3",
      "metadata": {
        "id": "60c02507-5508-4f4d-beb6-04c86a44f5f3"
      },
      "outputs": [],
      "source": [
        "# La teva resposta aquí\n",
        "lista = [4,4,5,2,7,3]\n",
        "for x in range(6):\n",
        "    lista[0] = 4 + 3\n",
        "    lista[1] = 4 + 3\n",
        "    lista[2] = 5 + 3\n",
        "    lista[3] = 2 + 3\n",
        "    lista[4] = 7 + 3\n",
        "    lista[5] = 3 + 3\n",
        "    break\n",
        "print(lista)"
      ]
    },
    {
      "cell_type": "markdown",
      "id": "7ebce496-6ba2-4543-b63a-c392659df722",
      "metadata": {
        "id": "7ebce496-6ba2-4543-b63a-c392659df722"
      },
      "source": [
        "## Exercici 8\n",
        "\n",
        "Crea una “tragaperras” de tres nombres entre 0 i 5. S’indica a l’usuari quins nombres han sortit. Si coincideixen, un missatge ha de dir: “has guanyat” i sortir del programa. L’usuari pot fer el nombre de tirades que vulgui fins que digui “prou”. S’ha de mostrar el nombre de jugades fins a dir “prou”. S’ha de mostrar també el nombre de diners perduts. Cada tirada costa 1€ i guanyar dona 10€."
      ]
    },
    {
      "cell_type": "code",
      "execution_count": null,
      "id": "9056e741-e6a1-41a4-8cda-4b0833f55083",
      "metadata": {
        "id": "9056e741-e6a1-41a4-8cda-4b0833f55083"
      },
      "outputs": [],
      "source": [
        "# La teva resposta aquí\n",
        "import random \n",
        "num1=random.randint(0,5)\n",
        "num2=random.randint(0,5)\n",
        "num3=random.randint(0,5)\n",
        "contador=0\n",
        "diners=10\n",
        "print(num1,num2,num3)\n",
        "while(num1!=num2 and num1 != num3 and num2!=num3):\n",
        "  contador=contador+1\n",
        "  diners=diners-1\n",
        "  if num1 == num2 and num2 == num3:\n",
        "        print(\"has ganado ganas 10$\")\n",
        "        diners=diners+10\n",
        "  else:\n",
        "        respuesta=input(\"quieres seguir (si/prou): \")\n",
        "        if respuesta == \"prou\":\n",
        "         break\n",
        "        num1=random.randint(0,5)\n",
        "        num2=random.randint(0,5)\n",
        "        num3=random.randint(0,5)\n",
        "        print(num1,num2,num3)\n",
        "print(\"cuantas tiradas tienes: \",contador)\n",
        "print(\"te queda\",diners,\"$\")"
      ]
    },
    {
      "cell_type": "markdown",
      "id": "4404fb8c-54ca-4e1f-bdbd-80832e54218c",
      "metadata": {
        "id": "4404fb8c-54ca-4e1f-bdbd-80832e54218c"
      },
      "source": [
        "## Exercici 9\n",
        "Crea un codi que mostri per pantalla els elements imparells de la següent llista = [15,10,3,45,56,2,2,68,10,23] fins que s’arribi al 68."
      ]
    },
    {
      "cell_type": "code",
      "execution_count": null,
      "id": "21a365a1-55fd-4ad0-8d3a-04e2c6e91cab",
      "metadata": {
        "colab": {
          "base_uri": "https://localhost:8080/"
        },
        "id": "21a365a1-55fd-4ad0-8d3a-04e2c6e91cab",
        "outputId": "29a4a5ac-3571-484f-b6bd-44d7c058ab4d"
      },
      "outputs": [
        {
          "output_type": "stream",
          "name": "stdout",
          "text": [
            "[2, 2, 3, 10, 10, 15, 23, 45, 56, 68]\n"
          ]
        }
      ],
      "source": [
        "# La teva resposta aquí\n",
        "llista = [15,10,3,45,56,2,2,68,10,23] \n",
        "llista.sort()\n",
        "print(llista)"
      ]
    },
    {
      "cell_type": "markdown",
      "id": "43577719-4977-4aa9-92b7-60a2a8faf3b4",
      "metadata": {
        "id": "43577719-4977-4aa9-92b7-60a2a8faf3b4"
      },
      "source": [
        "## Exercici 10\n",
        "\n",
        "Crea el joc del penjat. Crea una paraula secreta de cinc lletres. S’ha d’anar mostrant per pantalla _ _ _ _ _ i substituint les _ a mesura que l’usuari vagi introduint lletres correctes. El programa acabarà després de 10 intents o si la paraula s’encerta."
      ]
    },
    {
      "cell_type": "code",
      "execution_count": null,
      "id": "c263e2b3-4f47-4df4-9572-f9359c8ff255",
      "metadata": {
        "id": "c263e2b3-4f47-4df4-9572-f9359c8ff255"
      },
      "outputs": [],
      "source": [
        "# La teva resposta aquí\n",
        "secreta = \"queso\"\n",
        "contador = 0\n",
        "print(\"joc del penjat\")\n",
        "while(secreta != respuesta):\n",
        "  contador=contador+1\n",
        "  respuesta = input(\"dime una letra:\")\n",
        "  if respuesta == \"q\":\n",
        "    print(\"q _ _ _ _\")\n",
        "  if respuesta == \"u\":\n",
        "    print(\"_ u _ _ _\")\n",
        "  if respuesta == \"e\":\n",
        "    print(\"_ _ e _ _\")\n",
        "  if respuesta == \"s\":\n",
        "    print(\"_ _ _ s _\")\n",
        "  if respuesta == \"o\":\n",
        "    print(\"_ _ _ _ o\")\n",
        "  if respuesta == \"queso\":\n",
        "    print(\"queso has ganado\")\n",
        "    break\n",
        "  if contador == 10:\n",
        "    print(\"demasiados intentos\")\n",
        "    break"
      ]
    },
    {
      "cell_type": "markdown",
      "id": "13dba29e-1959-40f0-9991-295f76b528c7",
      "metadata": {
        "id": "13dba29e-1959-40f0-9991-295f76b528c7"
      },
      "source": [
        "## Exercici 11\n",
        "Crea un codi que obtingui 5 nombres aleatoris del 1 al 5 i els vagi guardant en una llista mitjançant un for. Només que un dels nombres sigui el 3, el for s’ha d’aturar i mostrar la llista amb els nombres que tingui."
      ]
    },
    {
      "cell_type": "code",
      "execution_count": null,
      "id": "fe5ffed3-1fa5-49bd-9c31-b36cd48324b5",
      "metadata": {
        "id": "fe5ffed3-1fa5-49bd-9c31-b36cd48324b5"
      },
      "outputs": [],
      "source": [
        "# La teva resposta aquí\n",
        "import random\n",
        "for x in range(5):\n",
        "  num=random.randint(0,5)\n",
        "  lista=(num)\n",
        "  if lista == 3:\n",
        "    break\n",
        "  print(lista)"
      ]
    },
    {
      "cell_type": "markdown",
      "id": "5ff3f60a-31b7-4a7a-b84b-82209a61f221",
      "metadata": {
        "id": "5ff3f60a-31b7-4a7a-b84b-82209a61f221"
      },
      "source": [
        "## Exercici 12\n",
        "\n",
        "Crear un programa que afegeixi números a una llista fins que introduïm un número negatiu. A continuació heu de crear una nova llista igual que l'anterior però eliminant els números duplicats. Mostra aquesta segona llista per comprovar que hem eliminat els duplicats."
      ]
    },
    {
      "cell_type": "code",
      "execution_count": null,
      "id": "ef7b55dd-554a-48f5-9da8-f209fcb39ed9",
      "metadata": {
        "id": "ef7b55dd-554a-48f5-9da8-f209fcb39ed9"
      },
      "outputs": [],
      "source": [
        "# La teva resposta aquí\n",
        "lista = []\n",
        "lista2 = []\n",
        "for i in range(5):\n",
        "  num = int(input(\"di un numero:\"))\n",
        "  lista.append(num)\n",
        "  lista2 = lista.copy()\n",
        "  lista2 = list(set(lista2))\n",
        "  if num < 0:\n",
        "    print(f\"el numero que has puesto:{num} es negativo\")\n",
        "    break\n",
        "print(\"esta es la lista normal\",lista)\n",
        "print(\"y esta sin duplicados\",lista2)"
      ]
    },
    {
      "cell_type": "markdown",
      "id": "4653551d-df75-44e7-99ef-924177b77bad",
      "metadata": {
        "id": "4653551d-df75-44e7-99ef-924177b77bad"
      },
      "source": [
        "## Exercici 13\n",
        "S’ha decidit fer una recuperació d’un examen de programació d’ASIX que ha anat molt malament per diversos motius. Dissenya un programa que pregunti quina nota s’ha tret en el primer examen i quina nota es creu que es traurà en aquest examen de recuperació. Després es pregunta a l’usuari quin criteri creu que farà servir el professor per tenir la nota final del parcial basant-se en els següents criteris i es mostrarà la nota final.\n",
        "\n",
        "* El professor farà una bona mitja. La nota final serà el 20% de la nota del primer examen i el 80% de la nota d’aquest examen.\n",
        "* El professor farà una mitja normal. La nota final serà el 35% de la nota del primer examen i el 65% de la nota d’aquest examen.\n",
        "* El professor farà una mala mitja. La nota final serà el 50% de la nota del primer examen i el 50% de la nota d’aquest examen.\n"
      ]
    },
    {
      "cell_type": "code",
      "execution_count": null,
      "id": "f35e4add-8972-43f6-947e-22b55d6b81f3",
      "metadata": {
        "id": "f35e4add-8972-43f6-947e-22b55d6b81f3"
      },
      "outputs": [],
      "source": [
        "# La teva resposta aquí\n",
        "num = int(input(\"que nota has sacado en el examen?\"))\n",
        "num2 = int(input(\"que nota crees que sacaras en la recuperacion?\"))\n",
        "print(\"1) El professor farà una bona mitja. La nota final serà el 20% de la nota del primer examen i el 80% de la nota d’aquest examen.\")\n",
        "print(\"2) El professor farà una mitja normal. La nota final serà el 35% de la nota del primer examen i el 65% de la nota d’aquest examen.\")\n",
        "print(\"3) El professor farà una mala mitja. La nota final serà el 50% de la nota del primer examen i el 50% de la nota d’aquest examen\")\n",
        "prgt = int(input(\"Que criterio crees que usara el profe? \"))\n",
        "if prgt == 1:\n",
        "  porcentaje1 = 20\n",
        "  nota1 = porcentaje1 * ( num / 100)\n",
        "  porcentaje2 = 80\n",
        "  nota2 = porcentaje2 * ( num2 / 100)\n",
        "  print(\"esta es la nota que sacarias\",nota1+nota2)\n",
        "if prgt == 2:\n",
        "  porcentaje3 = 35\n",
        "  nota3 = porcentaje3 * ( num / 100)\n",
        "  porcentaje4 = 65\n",
        "  nota4 = porcentaje4 * ( num2 / 100)\n",
        "  print(\"esta es la nota que sacarias\",nota3+nota4)\n",
        "if prgt == 3:\n",
        "  porcentaje5 = 50\n",
        "  nota5 = porcentaje5 * ( num / 100)\n",
        "  porcentaje6 = 50\n",
        "  nota6 = porcentaje6 * ( num2 / 100)\n",
        "  print(\"esta es la nota que sacarias\",nota5+nota6)"
      ]
    },
    {
      "cell_type": "markdown",
      "id": "11041821-4102-4e33-82f1-eefa48107cc0",
      "metadata": {
        "id": "11041821-4102-4e33-82f1-eefa48107cc0"
      },
      "source": [
        "## Exercici 14\n",
        "\n",
        "Modifica el programa anterior per a que la nota final s’obtingui de forma aleatòria tenin en compte la següent comanda rand = random.uniform(0,1). Aquesta comanda obté un nombre aleatori amb decimals entre 0 i 1. La nota del primer examen es multiplicarà per aquest factor i la d’aquest examen per la resta. S’ha de mostrar la nota final."
      ]
    },
    {
      "cell_type": "code",
      "execution_count": null,
      "id": "e5294d68-8c4e-49b9-a58f-a4cce7452626",
      "metadata": {
        "id": "e5294d68-8c4e-49b9-a58f-a4cce7452626"
      },
      "outputs": [],
      "source": [
        "# La teva resposta aquí\n",
        "import random \n",
        "rand = random.uniform(0,1)\n",
        "num = int(input(\"Que nota has sacado en el examen?\"))\n",
        "numod = num * rand\n",
        "print(\"La nota se a modificado por\",rand,\"Ahora es:\",numod)\n",
        "num2 = int(input(\"que nota crees que sacaras en la recuperacion? \"))\n",
        "print(\"1) El professor farà una bona mitja. La nota final serà el 20% de la nota del primer examen i el 80% de la nota d’aquest examen.\")\n",
        "print(\"2) El professor farà una mitja normal. La nota final serà el 35% de la nota del primer examen i el 65% de la nota d’aquest examen.\")\n",
        "print(\"3) El professor farà una mala mitja. La nota final serà el 50% de la nota del primer examen i el 50% de la nota d’aquest examen\")\n",
        "prgt = int(input(\"Que criterio crees que usara el profe? \"))\n",
        "if prgt == 1:\n",
        "  porcentaje1 = 20\n",
        "  nota1 = porcentaje1 * ( numod / 100)\n",
        "  porcentaje2 = 80\n",
        "  nota2 = porcentaje2 * ( num2 / 100)\n",
        "  print(\"Esta es la nota que sacarias\",nota1+nota2)\n",
        "if prgt == 2:\n",
        "  porcentaje3 = 35\n",
        "  nota3 = porcentaje3 * ( numod / 100)\n",
        "  porcentaje4 = 65\n",
        "  nota4 = porcentaje4 * ( num2 / 100)\n",
        "  print(\"Esta es la nota que sacarias\",nota3+nota4)\n",
        "if prgt == 3:\n",
        "  porcentaje5 = 50\n",
        "  nota5 = porcentaje5 * ( numod / 100)\n",
        "  porcentaje6 = 50\n",
        "  nota6 = porcentaje6 * ( num2 / 100)\n",
        "  print(\"Esta es la nota que sacarias\",nota5+nota6)"
      ]
    },
    {
      "cell_type": "markdown",
      "id": "526a93dd-5260-4d6a-9f7c-40658f2b6132",
      "metadata": {
        "id": "526a93dd-5260-4d6a-9f7c-40658f2b6132"
      },
      "source": [
        "## Exercici 15\n",
        "\n",
        "Donada la següent llista = [39,62,24,71,40,53,12,99,20,111], desenvolupa un programa que generi una llista amb els nombres divisibles entre 3 i una altra llista amb els que no ho son. Un cop estan distribuits, la llista original s’ha de substituir per un 0 en tots els seus elements. Un cop acabat, es mostren totes les llistes."
      ]
    },
    {
      "cell_type": "code",
      "execution_count": null,
      "id": "574fd70e-8236-417b-a79f-27ea1cca2d3a",
      "metadata": {
        "id": "574fd70e-8236-417b-a79f-27ea1cca2d3a"
      },
      "outputs": [],
      "source": [
        "# La teva resposta aquí"
      ]
    },
    {
      "cell_type": "code",
      "execution_count": null,
      "id": "0e660d40-4896-465f-abf7-41262f9747b6",
      "metadata": {
        "id": "0e660d40-4896-465f-abf7-41262f9747b6"
      },
      "outputs": [],
      "source": [
        "llista = [39,62,24,71,40,53,12,99,20,111]\n",
        "lista3 = []\n",
        "listax = []\n",
        "contador = 0\n",
        "print(39,62,24,71,40,53,12,99,20,111)\n",
        "respuesta = input(\"quieres hacer una lista con divisibles de 3?\")\n",
        "while(respuesta == \"si\" ):\n",
        "  contador=contador+1\n",
        "  if contador == 39:\n",
        "    lista3.append(llista[0])\n",
        "  if contador == 24:\n",
        "    lista3.append(llista[2])\n",
        "  if contador == 12:\n",
        "    lista3.append(llista[6])\n",
        "  if contador == 99:\n",
        "    lista3.append(llista[7])\n",
        "  if contador == 111:\n",
        "    lista3.append(llista[9])\n",
        "  if contador == 62:\n",
        "    listax.append(llista[1])\n",
        "  if contador == 71:\n",
        "    listax.append(llista[3])\n",
        "  if contador == 40:\n",
        "    listax.append(llista[4])\n",
        "  if contador == 53:\n",
        "    listax.append(llista[5])\n",
        "  if contador == 20:\n",
        "    listax.append(llista[8])\n",
        "  if contador == 112:\n",
        "      break\n",
        "respuesta2=input(\"quieres reiniciar la lista principal?\") \n",
        "if respuesta2 == \"si\":\n",
        "  llista[0] = 0\n",
        "  llista[2] = 0\n",
        "  llista[6] = 0\n",
        "  llista[7] = 0\n",
        "  llista[9] = 0\n",
        "  llista[1] = 0\n",
        "  llista[3] = 0\n",
        "  llista[4] = 0\n",
        "  llista[5] = 0\n",
        "  llista[8] = 0  \n",
        "print(\"estos son los divisibles: \",lista3)\n",
        "print(\"estos son el resto: \",listax)\n",
        "print(\"lista:\",llista)"
      ]
    }
  ],
  "metadata": {
    "kernelspec": {
      "display_name": "Python 3",
      "language": "python",
      "name": "python3"
    },
    "language_info": {
      "codemirror_mode": {
        "name": "ipython",
        "version": 3
      },
      "file_extension": ".py",
      "mimetype": "text/x-python",
      "name": "python",
      "nbconvert_exporter": "python",
      "pygments_lexer": "ipython3",
      "version": "3.10.6"
    },
    "colab": {
      "provenance": [],
      "collapsed_sections": []
    }
  },
  "nbformat": 4,
  "nbformat_minor": 5
}